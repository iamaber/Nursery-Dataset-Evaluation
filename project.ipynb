{
 "cells": [
  {
   "cell_type": "code",
   "execution_count": 1,
   "id": "5c95ed7b",
   "metadata": {},
   "outputs": [],
   "source": [
    "import pandas as pd\n",
    "import numpy as np\n",
    "import pandas as pd\n",
    "import matplotlib.pyplot as plt\n",
    "from matplotlib import style\n",
    "import seaborn as sns\n",
    "from sklearn.preprocessing import LabelEncoder"
   ]
  },
  {
   "cell_type": "code",
   "execution_count": 28,
   "id": "4be172ac",
   "metadata": {},
   "outputs": [
    {
     "data": {
      "text/html": [
       "<div>\n",
       "<style scoped>\n",
       "    .dataframe tbody tr th:only-of-type {\n",
       "        vertical-align: middle;\n",
       "    }\n",
       "\n",
       "    .dataframe tbody tr th {\n",
       "        vertical-align: top;\n",
       "    }\n",
       "\n",
       "    .dataframe thead th {\n",
       "        text-align: right;\n",
       "    }\n",
       "</style>\n",
       "<table border=\"1\" class=\"dataframe\">\n",
       "  <thead>\n",
       "    <tr style=\"text-align: right;\">\n",
       "      <th></th>\n",
       "      <th>Parents' Occupation</th>\n",
       "      <th>Child's Nursery</th>\n",
       "      <th>Form of the family</th>\n",
       "      <th>Children</th>\n",
       "      <th>Housing condition</th>\n",
       "      <th>Finance standing</th>\n",
       "      <th>Social condition</th>\n",
       "      <th>Health condition</th>\n",
       "      <th>Final Evaluation</th>\n",
       "    </tr>\n",
       "  </thead>\n",
       "  <tbody>\n",
       "    <tr>\n",
       "      <th>0</th>\n",
       "      <td>pretentious</td>\n",
       "      <td>critical</td>\n",
       "      <td>incomplete</td>\n",
       "      <td>1</td>\n",
       "      <td>convenient</td>\n",
       "      <td>inconv</td>\n",
       "      <td>slightly_prob</td>\n",
       "      <td>recommended</td>\n",
       "      <td>priority</td>\n",
       "    </tr>\n",
       "    <tr>\n",
       "      <th>1</th>\n",
       "      <td>great_pret</td>\n",
       "      <td>proper</td>\n",
       "      <td>incomplete</td>\n",
       "      <td>2</td>\n",
       "      <td>convenient</td>\n",
       "      <td>convenient</td>\n",
       "      <td>slightly_prob</td>\n",
       "      <td>not_recom</td>\n",
       "      <td>not_recom</td>\n",
       "    </tr>\n",
       "    <tr>\n",
       "      <th>2</th>\n",
       "      <td>pretentious</td>\n",
       "      <td>improper</td>\n",
       "      <td>complete</td>\n",
       "      <td>1</td>\n",
       "      <td>critical</td>\n",
       "      <td>inconv</td>\n",
       "      <td>nonprob</td>\n",
       "      <td>recommended</td>\n",
       "      <td>priority</td>\n",
       "    </tr>\n",
       "    <tr>\n",
       "      <th>3</th>\n",
       "      <td>great_pret</td>\n",
       "      <td>improper</td>\n",
       "      <td>incomplete</td>\n",
       "      <td>3</td>\n",
       "      <td>critical</td>\n",
       "      <td>convenient</td>\n",
       "      <td>nonprob</td>\n",
       "      <td>not_recom</td>\n",
       "      <td>not_recom</td>\n",
       "    </tr>\n",
       "    <tr>\n",
       "      <th>4</th>\n",
       "      <td>pretentious</td>\n",
       "      <td>proper</td>\n",
       "      <td>completed</td>\n",
       "      <td>1</td>\n",
       "      <td>critical</td>\n",
       "      <td>convenient</td>\n",
       "      <td>nonprob</td>\n",
       "      <td>priority</td>\n",
       "      <td>priority</td>\n",
       "    </tr>\n",
       "  </tbody>\n",
       "</table>\n",
       "</div>"
      ],
      "text/plain": [
       "   Parents' Occupation Child's Nursery Form of the family Children  \\\n",
       "0          pretentious        critical         incomplete        1   \n",
       "1           great_pret          proper         incomplete        2   \n",
       "2          pretentious        improper           complete        1   \n",
       "3           great_pret        improper         incomplete        3   \n",
       "4          pretentious          proper          completed        1   \n",
       "\n",
       "  Housing condition Finance standing Social condition Health condition  \\\n",
       "0        convenient           inconv    slightly_prob      recommended   \n",
       "1        convenient       convenient    slightly_prob        not_recom   \n",
       "2          critical           inconv          nonprob      recommended   \n",
       "3          critical       convenient          nonprob        not_recom   \n",
       "4          critical       convenient          nonprob         priority   \n",
       "\n",
       "  Final Evaluation  \n",
       "0         priority  \n",
       "1        not_recom  \n",
       "2         priority  \n",
       "3        not_recom  \n",
       "4         priority  "
      ]
     },
     "execution_count": 28,
     "metadata": {},
     "output_type": "execute_result"
    }
   ],
   "source": [
    "nursery_df = pd.read_csv('nursery.csv')\n",
    "nursery_df.head()"
   ]
  },
  {
   "cell_type": "code",
   "execution_count": 29,
   "id": "2cd65491",
   "metadata": {},
   "outputs": [
    {
     "data": {
      "text/plain": [
       "Index([' Parents' Occupation', 'Child's Nursery', 'Form of the family',\n",
       "       'Children', 'Housing condition', 'Finance standing', 'Social condition',\n",
       "       'Health condition', 'Final Evaluation'],\n",
       "      dtype='object')"
      ]
     },
     "execution_count": 29,
     "metadata": {},
     "output_type": "execute_result"
    }
   ],
   "source": [
    "nursery_df.columns"
   ]
  },
  {
   "cell_type": "code",
   "execution_count": 30,
   "id": "062420e9",
   "metadata": {},
   "outputs": [
    {
     "data": {
      "text/plain": [
       "Index(['Parents' Occupation', 'Child's Nursery', 'Form of the family',\n",
       "       'Children', 'Housing condition', 'Finance standing', 'Social condition',\n",
       "       'Health condition', 'Final Evaluation'],\n",
       "      dtype='object')"
      ]
     },
     "execution_count": 30,
     "metadata": {},
     "output_type": "execute_result"
    }
   ],
   "source": [
    "nursery_df = nursery_df.rename(columns={\" Parents' Occupation\": \"Parents' Occupation\"})\n",
    "nursery_df.columns"
   ]
  },
  {
   "cell_type": "code",
   "execution_count": 31,
   "id": "69302f41",
   "metadata": {},
   "outputs": [
    {
     "name": "stdout",
     "output_type": "stream",
     "text": [
      "(12960, 9)\n"
     ]
    },
    {
     "data": {
      "text/html": [
       "<div>\n",
       "<style scoped>\n",
       "    .dataframe tbody tr th:only-of-type {\n",
       "        vertical-align: middle;\n",
       "    }\n",
       "\n",
       "    .dataframe tbody tr th {\n",
       "        vertical-align: top;\n",
       "    }\n",
       "\n",
       "    .dataframe thead th {\n",
       "        text-align: right;\n",
       "    }\n",
       "</style>\n",
       "<table border=\"1\" class=\"dataframe\">\n",
       "  <thead>\n",
       "    <tr style=\"text-align: right;\">\n",
       "      <th></th>\n",
       "      <th>Parents' Occupation</th>\n",
       "      <th>Child's Nursery</th>\n",
       "      <th>Form of the family</th>\n",
       "      <th>Children</th>\n",
       "      <th>Housing condition</th>\n",
       "      <th>Finance standing</th>\n",
       "      <th>Social condition</th>\n",
       "      <th>Health condition</th>\n",
       "      <th>Final Evaluation</th>\n",
       "    </tr>\n",
       "  </thead>\n",
       "  <tbody>\n",
       "    <tr>\n",
       "      <th>count</th>\n",
       "      <td>12895</td>\n",
       "      <td>12935</td>\n",
       "      <td>12887</td>\n",
       "      <td>12908</td>\n",
       "      <td>12936</td>\n",
       "      <td>12876</td>\n",
       "      <td>12897</td>\n",
       "      <td>12904</td>\n",
       "      <td>12960</td>\n",
       "    </tr>\n",
       "    <tr>\n",
       "      <th>unique</th>\n",
       "      <td>3</td>\n",
       "      <td>5</td>\n",
       "      <td>4</td>\n",
       "      <td>4</td>\n",
       "      <td>3</td>\n",
       "      <td>2</td>\n",
       "      <td>3</td>\n",
       "      <td>3</td>\n",
       "      <td>5</td>\n",
       "    </tr>\n",
       "    <tr>\n",
       "      <th>top</th>\n",
       "      <td>pretentious</td>\n",
       "      <td>critical</td>\n",
       "      <td>completed</td>\n",
       "      <td>1</td>\n",
       "      <td>critical</td>\n",
       "      <td>inconv</td>\n",
       "      <td>slightly_prob</td>\n",
       "      <td>priority</td>\n",
       "      <td>not_recom</td>\n",
       "    </tr>\n",
       "    <tr>\n",
       "      <th>freq</th>\n",
       "      <td>4313</td>\n",
       "      <td>2592</td>\n",
       "      <td>3235</td>\n",
       "      <td>3228</td>\n",
       "      <td>4317</td>\n",
       "      <td>6444</td>\n",
       "      <td>4299</td>\n",
       "      <td>4304</td>\n",
       "      <td>4320</td>\n",
       "    </tr>\n",
       "  </tbody>\n",
       "</table>\n",
       "</div>"
      ],
      "text/plain": [
       "       Parents' Occupation Child's Nursery Form of the family Children  \\\n",
       "count                12895           12935              12887    12908   \n",
       "unique                   3               5                  4        4   \n",
       "top            pretentious        critical          completed        1   \n",
       "freq                  4313            2592               3235     3228   \n",
       "\n",
       "       Housing condition Finance standing Social condition Health condition  \\\n",
       "count              12936            12876            12897            12904   \n",
       "unique                 3                2                3                3   \n",
       "top             critical           inconv    slightly_prob         priority   \n",
       "freq                4317             6444             4299             4304   \n",
       "\n",
       "       Final Evaluation  \n",
       "count             12960  \n",
       "unique                5  \n",
       "top           not_recom  \n",
       "freq               4320  "
      ]
     },
     "execution_count": 31,
     "metadata": {},
     "output_type": "execute_result"
    }
   ],
   "source": [
    "print(nursery_df.shape)\n",
    "nursery_df.describe()"
   ]
  },
  {
   "cell_type": "code",
   "execution_count": 32,
   "id": "34bfe086",
   "metadata": {},
   "outputs": [
    {
     "name": "stdout",
     "output_type": "stream",
     "text": [
      "['pretentious' 'great_pret' 'usual' nan]\n",
      "['critical' 'proper' 'improper' 'very_crit' 'less_proper' nan]\n",
      "['incomplete' 'complete' 'completed' 'foster' nan]\n",
      "['1' '2' '3' 'more' nan]\n",
      "['convenient' 'critical' 'less_conv' nan]\n",
      "['inconv' 'convenient' nan]\n",
      "['slightly_prob' 'nonprob' 'problematic' nan]\n",
      "['recommended' 'not_recom' 'priority' nan]\n",
      "['priority' 'not_recom' 'spec_prior' 'very_recom' 'recommend']\n"
     ]
    }
   ],
   "source": [
    "print(nursery_df[\"Parents' Occupation\"].unique())\n",
    "print(nursery_df[\"Child's Nursery\"].unique())\n",
    "print(nursery_df[\"Form of the family\"].unique())\n",
    "print(nursery_df[\"Children\"].unique())\n",
    "print(nursery_df[\"Housing condition\"].unique())\n",
    "print(nursery_df['Finance standing'].unique())\n",
    "print(nursery_df[\"Social condition\"].unique())\n",
    "print(nursery_df[\"Health condition\"].unique())\n",
    "print(nursery_df[\"Final Evaluation\"].unique())"
   ]
  },
  {
   "cell_type": "code",
   "execution_count": 33,
   "id": "12628b18",
   "metadata": {},
   "outputs": [
    {
     "data": {
      "text/plain": [
       "Parents' Occupation    65\n",
       "Child's Nursery        25\n",
       "Form of the family     73\n",
       "Children               52\n",
       "Housing condition      24\n",
       "Finance standing       84\n",
       "Social condition       63\n",
       "Health condition       56\n",
       "Final Evaluation        0\n",
       "dtype: int64"
      ]
     },
     "execution_count": 33,
     "metadata": {},
     "output_type": "execute_result"
    }
   ],
   "source": [
    "nursery_df.isnull().sum()"
   ]
  },
  {
   "cell_type": "code",
   "execution_count": 34,
   "id": "7570cb54",
   "metadata": {},
   "outputs": [
    {
     "data": {
      "text/plain": [
       "(12590, 9)"
      ]
     },
     "execution_count": 34,
     "metadata": {},
     "output_type": "execute_result"
    }
   ],
   "source": [
    "#Drop row\n",
    "nursery_df[\"Form of the family\"]= nursery_df[\"Form of the family\"].replace({\"completed\":\"complete\"})\n",
    "nursery_df=nursery_df[nursery_df[\"Form of the family\"].notnull()]\n",
    "nursery_df=nursery_df[nursery_df[\"Children\"].notnull()]\n",
    "nursery_df=nursery_df[nursery_df[\"Housing condition\"].notnull()]\n",
    "nursery_df=nursery_df[nursery_df[\"Child's Nursery\"].notnull()]\n",
    "nursery_df=nursery_df[nursery_df[\"Parents' Occupation\"].notnull()]\n",
    "nursery_df=nursery_df[nursery_df[\"Finance standing\"].notnull()]\n",
    "nursery_df=nursery_df[nursery_df[\"Social condition\"].notnull()]\n",
    "nursery_df=nursery_df[nursery_df[\"Health condition\"].notnull()]\n",
    "\n",
    "nursery_df.shape"
   ]
  },
  {
   "cell_type": "code",
   "execution_count": 35,
   "id": "168c8f16",
   "metadata": {},
   "outputs": [
    {
     "data": {
      "text/plain": [
       "Parents' Occupation    0\n",
       "Child's Nursery        0\n",
       "Form of the family     0\n",
       "Children               0\n",
       "Housing condition      0\n",
       "Finance standing       0\n",
       "Social condition       0\n",
       "Health condition       0\n",
       "Final Evaluation       0\n",
       "dtype: int64"
      ]
     },
     "execution_count": 35,
     "metadata": {},
     "output_type": "execute_result"
    }
   ],
   "source": [
    "nursery_df.isnull().sum()"
   ]
  },
  {
   "cell_type": "code",
   "execution_count": 36,
   "id": "d02a2fee",
   "metadata": {},
   "outputs": [],
   "source": [
    "nursery_df[\"Children\"]= nursery_df[\"Children\"].replace({\"1\":\"one\", \"2\":\"two\", \"3\":\"three\", \"more\":\"more\"})\n"
   ]
  },
  {
   "cell_type": "code",
   "execution_count": 37,
   "id": "6e1d1919",
   "metadata": {},
   "outputs": [],
   "source": [
    "#Encoding\n",
    "nursery_df[\"Finance standing\"] = nursery_df[\"Finance standing\"].map({\"convenient\": 1, \"inconv\": 0})\n",
    "nursery_df[\"Children\"] = nursery_df[\"Children\"].map({\"one\": 1,\"two\":2,\"three\":3, \"more\": 0})\n",
    "nursery_df[\"Final Evaluation\"] = nursery_df[\"Final Evaluation\"].map({\"very_recom\": 2,\"priority\":3,\"spec_prior\":4, \"not_recom\": 0, \"recommend\": 1})\n",
    "nursery_df[\"Health condition\"] = nursery_df[\"Health condition\"].map({\"recommended\": 1, \"not_recom\": 0, \"priority\": 2})\n",
    "nursery_df[\"Social condition\"] = nursery_df[\"Social condition\"].map({\"problematic\": 0, \"slightly_prob\": 1, \"nonprob\": 2})\n",
    "nursery_df[\"Housing condition\"] = nursery_df[\"Housing condition\"].map({\"convenient\": 2, \"less_conv\": 1, \"critical\": 0})\n",
    "nursery_df[\"Form of the family\"] = nursery_df[\"Form of the family\"].map({\"incomplete\": 0, \"complete\": 2, \"foster\": 1})\n",
    "nursery_df[\"Parents' Occupation\"] = nursery_df[\"Parents' Occupation\"].map({\"pretentious\": 1, \"great_pret\": 0, \"usual\": 2 })\n",
    "nursery_df[\"Child's Nursery\"] = nursery_df[\"Child's Nursery\"].map({\"proper\": 4, \"less_proper\": 3, \"improper\": 2, \"critical\": 1, \"very_crit\": 0})"
   ]
  },
  {
   "cell_type": "code",
   "execution_count": 38,
   "id": "48b9e688",
   "metadata": {},
   "outputs": [
    {
     "data": {
      "text/html": [
       "<div>\n",
       "<style scoped>\n",
       "    .dataframe tbody tr th:only-of-type {\n",
       "        vertical-align: middle;\n",
       "    }\n",
       "\n",
       "    .dataframe tbody tr th {\n",
       "        vertical-align: top;\n",
       "    }\n",
       "\n",
       "    .dataframe thead th {\n",
       "        text-align: right;\n",
       "    }\n",
       "</style>\n",
       "<table border=\"1\" class=\"dataframe\">\n",
       "  <thead>\n",
       "    <tr style=\"text-align: right;\">\n",
       "      <th></th>\n",
       "      <th>Parents' Occupation</th>\n",
       "      <th>Child's Nursery</th>\n",
       "      <th>Form of the family</th>\n",
       "      <th>Children</th>\n",
       "      <th>Housing condition</th>\n",
       "      <th>Finance standing</th>\n",
       "      <th>Social condition</th>\n",
       "      <th>Health condition</th>\n",
       "      <th>Final Evaluation</th>\n",
       "    </tr>\n",
       "  </thead>\n",
       "  <tbody>\n",
       "    <tr>\n",
       "      <th>0</th>\n",
       "      <td>1</td>\n",
       "      <td>1</td>\n",
       "      <td>0</td>\n",
       "      <td>1</td>\n",
       "      <td>2</td>\n",
       "      <td>0</td>\n",
       "      <td>1</td>\n",
       "      <td>1</td>\n",
       "      <td>3</td>\n",
       "    </tr>\n",
       "    <tr>\n",
       "      <th>1</th>\n",
       "      <td>0</td>\n",
       "      <td>4</td>\n",
       "      <td>0</td>\n",
       "      <td>2</td>\n",
       "      <td>2</td>\n",
       "      <td>1</td>\n",
       "      <td>1</td>\n",
       "      <td>0</td>\n",
       "      <td>0</td>\n",
       "    </tr>\n",
       "    <tr>\n",
       "      <th>2</th>\n",
       "      <td>1</td>\n",
       "      <td>2</td>\n",
       "      <td>2</td>\n",
       "      <td>1</td>\n",
       "      <td>0</td>\n",
       "      <td>0</td>\n",
       "      <td>2</td>\n",
       "      <td>1</td>\n",
       "      <td>3</td>\n",
       "    </tr>\n",
       "    <tr>\n",
       "      <th>3</th>\n",
       "      <td>0</td>\n",
       "      <td>2</td>\n",
       "      <td>0</td>\n",
       "      <td>3</td>\n",
       "      <td>0</td>\n",
       "      <td>1</td>\n",
       "      <td>2</td>\n",
       "      <td>0</td>\n",
       "      <td>0</td>\n",
       "    </tr>\n",
       "    <tr>\n",
       "      <th>4</th>\n",
       "      <td>1</td>\n",
       "      <td>4</td>\n",
       "      <td>2</td>\n",
       "      <td>1</td>\n",
       "      <td>0</td>\n",
       "      <td>1</td>\n",
       "      <td>2</td>\n",
       "      <td>2</td>\n",
       "      <td>3</td>\n",
       "    </tr>\n",
       "    <tr>\n",
       "      <th>5</th>\n",
       "      <td>0</td>\n",
       "      <td>1</td>\n",
       "      <td>0</td>\n",
       "      <td>1</td>\n",
       "      <td>0</td>\n",
       "      <td>0</td>\n",
       "      <td>1</td>\n",
       "      <td>1</td>\n",
       "      <td>4</td>\n",
       "    </tr>\n",
       "    <tr>\n",
       "      <th>6</th>\n",
       "      <td>2</td>\n",
       "      <td>2</td>\n",
       "      <td>0</td>\n",
       "      <td>2</td>\n",
       "      <td>0</td>\n",
       "      <td>1</td>\n",
       "      <td>1</td>\n",
       "      <td>0</td>\n",
       "      <td>0</td>\n",
       "    </tr>\n",
       "    <tr>\n",
       "      <th>7</th>\n",
       "      <td>0</td>\n",
       "      <td>1</td>\n",
       "      <td>2</td>\n",
       "      <td>2</td>\n",
       "      <td>2</td>\n",
       "      <td>1</td>\n",
       "      <td>2</td>\n",
       "      <td>0</td>\n",
       "      <td>0</td>\n",
       "    </tr>\n",
       "    <tr>\n",
       "      <th>8</th>\n",
       "      <td>1</td>\n",
       "      <td>4</td>\n",
       "      <td>2</td>\n",
       "      <td>1</td>\n",
       "      <td>2</td>\n",
       "      <td>1</td>\n",
       "      <td>0</td>\n",
       "      <td>0</td>\n",
       "      <td>0</td>\n",
       "    </tr>\n",
       "    <tr>\n",
       "      <th>9</th>\n",
       "      <td>2</td>\n",
       "      <td>1</td>\n",
       "      <td>0</td>\n",
       "      <td>1</td>\n",
       "      <td>1</td>\n",
       "      <td>1</td>\n",
       "      <td>0</td>\n",
       "      <td>1</td>\n",
       "      <td>3</td>\n",
       "    </tr>\n",
       "  </tbody>\n",
       "</table>\n",
       "</div>"
      ],
      "text/plain": [
       "   Parents' Occupation  Child's Nursery  Form of the family  Children  \\\n",
       "0                    1                1                   0         1   \n",
       "1                    0                4                   0         2   \n",
       "2                    1                2                   2         1   \n",
       "3                    0                2                   0         3   \n",
       "4                    1                4                   2         1   \n",
       "5                    0                1                   0         1   \n",
       "6                    2                2                   0         2   \n",
       "7                    0                1                   2         2   \n",
       "8                    1                4                   2         1   \n",
       "9                    2                1                   0         1   \n",
       "\n",
       "   Housing condition  Finance standing  Social condition  Health condition  \\\n",
       "0                  2                 0                 1                 1   \n",
       "1                  2                 1                 1                 0   \n",
       "2                  0                 0                 2                 1   \n",
       "3                  0                 1                 2                 0   \n",
       "4                  0                 1                 2                 2   \n",
       "5                  0                 0                 1                 1   \n",
       "6                  0                 1                 1                 0   \n",
       "7                  2                 1                 2                 0   \n",
       "8                  2                 1                 0                 0   \n",
       "9                  1                 1                 0                 1   \n",
       "\n",
       "   Final Evaluation  \n",
       "0                 3  \n",
       "1                 0  \n",
       "2                 3  \n",
       "3                 0  \n",
       "4                 3  \n",
       "5                 4  \n",
       "6                 0  \n",
       "7                 0  \n",
       "8                 0  \n",
       "9                 3  "
      ]
     },
     "execution_count": 38,
     "metadata": {},
     "output_type": "execute_result"
    }
   ],
   "source": [
    "nursery_df.head(10)"
   ]
  },
  {
   "cell_type": "markdown",
   "id": "73270398",
   "metadata": {},
   "source": [
    "# Data Splitting"
   ]
  },
  {
   "cell_type": "code",
   "execution_count": 39,
   "id": "d5a35e1d",
   "metadata": {},
   "outputs": [],
   "source": [
    "from sklearn.model_selection import train_test_split\n",
    "# Random data splitting\n",
    "\n",
    "X_train, X_test, y_train, y_test = train_test_split(nursery_df[[\"Parents' Occupation\", \"Child's Nursery\", 'Form of the family',\n",
    "       'Children', 'Housing condition', 'Finance standing', 'Social condition','Health condition']], \n",
    "                                                    nursery_df['Final Evaluation'], \n",
    "                                                    test_size = 0.20, \n",
    "                                                    random_state=1)                            "
   ]
  },
  {
   "cell_type": "code",
   "execution_count": 40,
   "id": "600118ba",
   "metadata": {},
   "outputs": [
    {
     "data": {
      "text/plain": [
       "((10072, 8), (2518, 8))"
      ]
     },
     "execution_count": 40,
     "metadata": {},
     "output_type": "execute_result"
    }
   ],
   "source": [
    "X_train.shape, X_test.shape"
   ]
  },
  {
   "cell_type": "code",
   "execution_count": 41,
   "id": "1787144d",
   "metadata": {},
   "outputs": [],
   "source": [
    "nursery_df.to_csv('nurseryV2.csv')"
   ]
  },
  {
   "cell_type": "markdown",
   "id": "f68a109b",
   "metadata": {},
   "source": [
    "# KNN\n"
   ]
  },
  {
   "cell_type": "code",
   "execution_count": 42,
   "id": "127673ba",
   "metadata": {},
   "outputs": [
    {
     "name": "stdout",
     "output_type": "stream",
     "text": [
      "Test set predictions:\n",
      " [0 4 4 ... 0 0 0]\n",
      "Accuracy<100%\n"
     ]
    },
    {
     "name": "stderr",
     "output_type": "stream",
     "text": [
      "c:\\Users\\Abir\\anaconda3\\lib\\site-packages\\sklearn\\neighbors\\_classification.py:228: FutureWarning: Unlike other reduction functions (e.g. `skew`, `kurtosis`), the default behavior of `mode` typically preserves the axis it acts along. In SciPy 1.11.0, this behavior will change: the default value of `keepdims` will become False, the `axis` over which the statistic is taken will be eliminated, and the value None will no longer be accepted. Set `keepdims` to True or False to avoid this warning.\n",
      "  mode, _ = stats.mode(_y[neigh_ind, k], axis=1)\n"
     ]
    }
   ],
   "source": [
    "#KNN\n",
    "from sklearn.neighbors import KNeighborsClassifier\n",
    "knn = KNeighborsClassifier(n_neighbors=5)\n",
    "knn.fit(X_train, y_train)\n",
    "y_pred = knn.predict(X_test)\n",
    "print(\"Test set predictions:\\n\", y_pred)\n",
    "print(\"Accuracy=100%\" if list(y_test)==list(y_pred) else \"Accuracy<100%\")"
   ]
  },
  {
   "cell_type": "code",
   "execution_count": 43,
   "id": "49e61510",
   "metadata": {},
   "outputs": [
    {
     "name": "stdout",
     "output_type": "stream",
     "text": [
      "Error = 5.202542 %\n",
      "Accuracy = 94.797458 %\n"
     ]
    }
   ],
   "source": [
    "count = 0\n",
    "for i in range( len(y_test) ):\n",
    "    if list(y_pred)[i] != list(y_test)[i]: \n",
    "        count = count + 1\n",
    "        \n",
    "knn_error = count/len(list(y_pred))\n",
    "print( \"Error = %f \" % (knn_error*100) + '%' )\n",
    "knn_accuracy = (1-knn_error)\n",
    "print( \"Accuracy = %f \" % (knn_accuracy*100) + '%' )"
   ]
  },
  {
   "cell_type": "markdown",
   "id": "11329749",
   "metadata": {},
   "source": [
    "# Decision Tree"
   ]
  },
  {
   "cell_type": "code",
   "execution_count": 44,
   "id": "9f51a571",
   "metadata": {},
   "outputs": [
    {
     "name": "stdout",
     "output_type": "stream",
     "text": [
      "Test set predictions:\n",
      " [0 4 4 ... 0 0 0]\n",
      "Accuracy<100%\n"
     ]
    }
   ],
   "source": [
    "#Decision Tree\n",
    "from sklearn.tree import DecisionTreeClassifier\n",
    "#clf = DecisionTreeClassifier()\n",
    "clf = DecisionTreeClassifier(max_leaf_nodes=20)\n",
    "clf = clf.fit(X_train, y_train)\n",
    "y_pred = clf.predict(X_test)\n",
    "print(\"Test set predictions:\\n\", y_pred)\n",
    "print(\"Accuracy=100%\" if list(y_test)==list(y_pred) else \"Accuracy<100%\")"
   ]
  },
  {
   "cell_type": "code",
   "execution_count": 45,
   "id": "32f6285d",
   "metadata": {},
   "outputs": [
    {
     "name": "stdout",
     "output_type": "stream",
     "text": [
      "Error = 8.816521 %\n",
      "Accuracy = 91.183479 %\n"
     ]
    }
   ],
   "source": [
    "count = 0\n",
    "for i in range( len(y_test) ):\n",
    "    if list(y_pred)[i] != list(y_test)[i]: \n",
    "        count = count + 1\n",
    "        \n",
    "clf_error = count/len(list(y_pred))\n",
    "print( \"Error = %f \" % (clf_error*100) + '%' )\n",
    "clf_accuracy = (1-clf_error)\n",
    "print( \"Accuracy = %f \" % (clf_accuracy*100) + '%' )"
   ]
  },
  {
   "cell_type": "markdown",
   "id": "0c4312ce",
   "metadata": {},
   "source": [
    "# Support vector machines(SVM)"
   ]
  },
  {
   "cell_type": "code",
   "execution_count": 46,
   "id": "58ffa05a",
   "metadata": {},
   "outputs": [
    {
     "name": "stdout",
     "output_type": "stream",
     "text": [
      "Test set predictions:\n",
      " [0 4 4 ... 0 0 0]\n",
      "Accuracy<100%\n"
     ]
    }
   ],
   "source": [
    "#SVM\n",
    "from sklearn.svm import SVC\n",
    "svm = SVC()\n",
    "svm.fit(X_train, y_train)\n",
    "y_pred = svm.predict(X_test)\n",
    "print(\"Test set predictions:\\n\", y_pred)\n",
    "print(\"Accuracy=100%\" if list(y_test)==list(y_pred) else \"Accuracy<100%\")"
   ]
  },
  {
   "cell_type": "code",
   "execution_count": 47,
   "id": "56baabbb",
   "metadata": {},
   "outputs": [
    {
     "name": "stdout",
     "output_type": "stream",
     "text": [
      "Error = 2.660842 %\n",
      "Accuracy = 97.339158 %\n"
     ]
    }
   ],
   "source": [
    "count = 0\n",
    "for i in range( len(y_test) ):\n",
    "    if list(y_pred)[i] != list(y_test)[i]: \n",
    "        count = count + 1\n",
    "        \n",
    "svm_error = count/len(list(y_pred))\n",
    "print( \"Error = %f \" % (svm_error*100) + '%' )\n",
    "svm_accuracy = (1-svm_error)\n",
    "print( \"Accuracy = %f \" % (svm_accuracy*100) + '%' )"
   ]
  },
  {
   "cell_type": "markdown",
   "id": "5d3761a5",
   "metadata": {},
   "source": [
    "# Logistic Regression"
   ]
  },
  {
   "cell_type": "code",
   "execution_count": 48,
   "id": "bc6e4904",
   "metadata": {},
   "outputs": [
    {
     "name": "stdout",
     "output_type": "stream",
     "text": [
      "Test set predictions:\n",
      " [0 4 4 ... 0 0 0]\n",
      "Accuracy<100%\n"
     ]
    }
   ],
   "source": [
    "#Logistic Regression\n",
    "from sklearn.linear_model import LogisticRegression\n",
    "logReg = LogisticRegression(max_iter=20000)\n",
    "logReg.fit(X_train, y_train)\n",
    "y_pred = logReg.predict(X_test)\n",
    "print(\"Test set predictions:\\n\", y_pred)\n",
    "print(\"Accuracy=100%\" if list(y_test)==list(y_pred) else \"Accuracy<100%\")"
   ]
  },
  {
   "cell_type": "code",
   "execution_count": 49,
   "id": "9ba4472b",
   "metadata": {},
   "outputs": [
    {
     "name": "stdout",
     "output_type": "stream",
     "text": [
      "Error = 10.206513 %\n",
      "Accuracy = 89.793487 %\n"
     ]
    }
   ],
   "source": [
    "count = 0\n",
    "for i in range( len(y_test) ):\n",
    "    if list(y_pred)[i] != list(y_test)[i]: \n",
    "        count = count + 1\n",
    "        \n",
    "logReg_error = count/len(list(y_pred))\n",
    "print( \"Error = %f \" % (logReg_error*100) + '%' )\n",
    "logReg_accuracy = (1-logReg_error)\n",
    "print( \"Accuracy = %f \" % (logReg_accuracy*100) + '%' )"
   ]
  },
  {
   "cell_type": "markdown",
   "id": "1954a22b",
   "metadata": {},
   "source": [
    "# Multi-layer Perceptron"
   ]
  },
  {
   "cell_type": "code",
   "execution_count": 25,
   "id": "95834663",
   "metadata": {},
   "outputs": [
    {
     "name": "stdout",
     "output_type": "stream",
     "text": [
      "Test set predictions:\n",
      " [0 4 4 ... 0 0 0]\n",
      "Accuracy<100%\n"
     ]
    }
   ],
   "source": [
    "from sklearn.neural_network import MLPClassifier\n",
    "\n",
    "cnn= MLPClassifier(max_iter=20000)\n",
    "cnn.fit(X_train, y_train)\n",
    "y_pred = cnn.predict(X_test)\n",
    "print(\"Test set predictions:\\n\", y_pred)\n",
    "print(\"Accuracy=100%\" if list(y_test)==list(y_pred) else \"Accuracy<100%\")"
   ]
  },
  {
   "cell_type": "code",
   "execution_count": 26,
   "id": "2d1442d0",
   "metadata": {},
   "outputs": [
    {
     "name": "stdout",
     "output_type": "stream",
     "text": [
      "Error = 1.350278 %\n",
      "Accuracy = 98.649722 %\n"
     ]
    }
   ],
   "source": [
    "count = 0\n",
    "for i in range( len(y_test) ):\n",
    "    if list(y_pred)[i] != list(y_test)[i]: \n",
    "        count = count + 1\n",
    "        \n",
    "cnn_error = count/len(list(y_pred))\n",
    "print( \"Error = %f \" % (cnn_error*100) + '%' )\n",
    "cnn_accuracy = (1-cnn_error)\n",
    "print( \"Accuracy = %f \" % (cnn_accuracy*100) + '%' )"
   ]
  },
  {
   "cell_type": "code",
   "execution_count": 27,
   "id": "d3e0b73e",
   "metadata": {},
   "outputs": [
    {
     "data": {
      "text/plain": [
       "<matplotlib.legend.Legend at 0x1e53adbc670>"
      ]
     },
     "execution_count": 27,
     "metadata": {},
     "output_type": "execute_result"
    },
    {
     "data": {
      "image/png": "[encoded data removed]",
      "text/plain": [
       "<Figure size 900x600 with 1 Axes>"
      ]
     },
     "metadata": {},
     "output_type": "display_data"
    }
   ],
   "source": [
    "accuracy = (knn_accuracy,clf_accuracy,svm_accuracy,logReg_accuracy,cnn_accuracy)\n",
    "error = (knn_error,clf_error,svm_error,logReg_error,cnn_error)\n",
    "x = ['KNN','Decision Tree','SVM','Logistic Regression','Multi-layer Perceptron']\n",
    "xpos = np.arange(len(x))\n",
    "style.use('ggplot')\n",
    "plt.figure(figsize=(9,6))\n",
    "barWidth = 0.2\n",
    "plt.bar(xpos, accuracy, color='green', width = barWidth, label='Accuracy')\n",
    "plt.bar(xpos+0.2, error, color='red', width = barWidth, label='Error')\n",
    "plt.xlabel('Model training')\n",
    "plt.title('ML models Accuracy vs Error')\n",
    "plt.xticks(xpos, x)\n",
    "plt.legend()"
   ]
  },
  {
   "cell_type": "code",
   "execution_count": null,
   "id": "3f826d9e",
   "metadata": {},
   "outputs": [],
   "source": []
  }
 ],
 "metadata": {
  "kernelspec": {
   "display_name": "Python 3 (ipykernel)",
   "language": "python",
   "name": "python3"
  },
  "language_info": {
   "codemirror_mode": {
    "name": "ipython",
    "version": 3
   },
   "file_extension": ".py",
   "mimetype": "text/x-python",
   "name": "python",
   "nbconvert_exporter": "python",
   "pygments_lexer": "ipython3",
   "version": "3.9.13"
  }
 },
 "nbformat": 4,
 "nbformat_minor": 5
}
